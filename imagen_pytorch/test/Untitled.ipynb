{
 "cells": [
  {
   "cell_type": "code",
   "execution_count": 3,
   "id": "ac7b5e29-e599-4a31-902d-db3a08ba7120",
   "metadata": {},
   "outputs": [
    {
     "name": "stdout",
     "output_type": "stream",
     "text": [
      "python: can't open file './data_loader/ours.py': [Errno 2] No such file or directory\n"
     ]
    }
   ],
   "source": [
    "!python ./data_loader/ours.py"
   ]
  },
  {
   "cell_type": "code",
   "execution_count": 5,
   "id": "5b7f0e69-eabf-4858-b142-d9c1993469c0",
   "metadata": {},
   "outputs": [
    {
     "name": "stdout",
     "output_type": "stream",
     "text": [
      "__init__.py  __pycache__  test_trainer.py  Untitled.ipynb\n",
      "/bin/bash: line 0: cd: new_model_0_4: No such file or directory\n",
      "__init__.py  __pycache__  test_trainer.py  Untitled.ipynb\n"
     ]
    }
   ],
   "source": [
    "!ls\n",
    "!ls"
   ]
  },
  {
   "cell_type": "code",
   "execution_count": null,
   "id": "2f6c5d46-2f7b-4152-8eb1-659c2a67eebd",
   "metadata": {},
   "outputs": [],
   "source": []
  }
 ],
 "metadata": {
  "kernelspec": {
   "display_name": "Python 3 (ipykernel)",
   "language": "python",
   "name": "python3"
  },
  "language_info": {
   "codemirror_mode": {
    "name": "ipython",
    "version": 3
   },
   "file_extension": ".py",
   "mimetype": "text/x-python",
   "name": "python",
   "nbconvert_exporter": "python",
   "pygments_lexer": "ipython3",
   "version": "3.8.10"
  }
 },
 "nbformat": 4,
 "nbformat_minor": 5
}
